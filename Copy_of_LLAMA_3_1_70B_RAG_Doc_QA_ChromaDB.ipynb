{
  "cells": [
    {
      "cell_type": "code",
      "execution_count": null,
      "id": "892671f6-e1fb-4305-bb7e-14b4376fe233",
      "metadata": {
        "id": "892671f6-e1fb-4305-bb7e-14b4376fe233"
      },
      "outputs": [],
      "source": [
        "#pip install chromadb==0.5.5 langchain-chroma==0.1.2 langchain==0.2.11 langchain-community==0.2.10 langchain-text-splitters==0.2.2 langchain-groq==0.1.6 transformers==4.43.2 sentence-transformers==3.0.1 unstructured==0.15.0 unstructured[pdf]==0.15.0"
      ]
    },
    {
      "cell_type": "code",
      "execution_count": null,
      "id": "74e64d74-9e15-4f9a-8e01-e0ed23e9e248",
      "metadata": {
        "id": "74e64d74-9e15-4f9a-8e01-e0ed23e9e248"
      },
      "outputs": [],
      "source": [
        "import os\n",
        "\n",
        "from langchain.document_loaders import UnstructuredFileLoader\n",
        "from langchain_text_splitters import CharacterTextSplitter\n",
        "from langchain_community.embeddings import HuggingFaceEmbeddings\n",
        "from langchain_chroma import Chroma\n",
        "from langchain_groq import ChatGroq\n",
        "from langchain.chains import RetrievalQA"
      ]
    },
    {
      "cell_type": "code",
      "execution_count": null,
      "id": "0c450678-9b60-4ffb-ab30-9e145b8d1c5b",
      "metadata": {
        "id": "0c450678-9b60-4ffb-ab30-9e145b8d1c5b"
      },
      "outputs": [],
      "source": [
        "os.environ[\"GROQ_API_KEY\"] = \"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\""
      ]
    },
    {
      "cell_type": "code",
      "execution_count": null,
      "id": "oR6d1gn5GEoi",
      "metadata": {
        "colab": {
          "base_uri": "https://localhost:8080/",
          "height": 90
        },
        "id": "oR6d1gn5GEoi",
        "outputId": "5913209b-496b-49d1-9d49-bec44c9d9622"
      },
      "outputs": [
        {
          "data": {
            "text/html": [
              "\n",
              "     <input type=\"file\" id=\"files-776542e9-7ff2-4094-8382-4ad2316bffea\" name=\"files[]\" multiple disabled\n",
              "        style=\"border:none\" />\n",
              "     <output id=\"result-776542e9-7ff2-4094-8382-4ad2316bffea\">\n",
              "      Upload widget is only available when the cell has been executed in the\n",
              "      current browser session. Please rerun this cell to enable.\n",
              "      </output>\n",
              "      <script>// Copyright 2017 Google LLC\n",
              "//\n",
              "// Licensed under the Apache License, Version 2.0 (the \"License\");\n",
              "// you may not use this file except in compliance with the License.\n",
              "// You may obtain a copy of the License at\n",
              "//\n",
              "//      http://www.apache.org/licenses/LICENSE-2.0\n",
              "//\n",
              "// Unless required by applicable law or agreed to in writing, software\n",
              "// distributed under the License is distributed on an \"AS IS\" BASIS,\n",
              "// WITHOUT WARRANTIES OR CONDITIONS OF ANY KIND, either express or implied.\n",
              "// See the License for the specific language governing permissions and\n",
              "// limitations under the License.\n",
              "\n",
              "/**\n",
              " * @fileoverview Helpers for google.colab Python module.\n",
              " */\n",
              "(function(scope) {\n",
              "function span(text, styleAttributes = {}) {\n",
              "  const element = document.createElement('span');\n",
              "  element.textContent = text;\n",
              "  for (const key of Object.keys(styleAttributes)) {\n",
              "    element.style[key] = styleAttributes[key];\n",
              "  }\n",
              "  return element;\n",
              "}\n",
              "\n",
              "// Max number of bytes which will be uploaded at a time.\n",
              "const MAX_PAYLOAD_SIZE = 100 * 1024;\n",
              "\n",
              "function _uploadFiles(inputId, outputId) {\n",
              "  const steps = uploadFilesStep(inputId, outputId);\n",
              "  const outputElement = document.getElementById(outputId);\n",
              "  // Cache steps on the outputElement to make it available for the next call\n",
              "  // to uploadFilesContinue from Python.\n",
              "  outputElement.steps = steps;\n",
              "\n",
              "  return _uploadFilesContinue(outputId);\n",
              "}\n",
              "\n",
              "// This is roughly an async generator (not supported in the browser yet),\n",
              "// where there are multiple asynchronous steps and the Python side is going\n",
              "// to poll for completion of each step.\n",
              "// This uses a Promise to block the python side on completion of each step,\n",
              "// then passes the result of the previous step as the input to the next step.\n",
              "function _uploadFilesContinue(outputId) {\n",
              "  const outputElement = document.getElementById(outputId);\n",
              "  const steps = outputElement.steps;\n",
              "\n",
              "  const next = steps.next(outputElement.lastPromiseValue);\n",
              "  return Promise.resolve(next.value.promise).then((value) => {\n",
              "    // Cache the last promise value to make it available to the next\n",
              "    // step of the generator.\n",
              "    outputElement.lastPromiseValue = value;\n",
              "    return next.value.response;\n",
              "  });\n",
              "}\n",
              "\n",
              "/**\n",
              " * Generator function which is called between each async step of the upload\n",
              " * process.\n",
              " * @param {string} inputId Element ID of the input file picker element.\n",
              " * @param {string} outputId Element ID of the output display.\n",
              " * @return {!Iterable<!Object>} Iterable of next steps.\n",
              " */\n",
              "function* uploadFilesStep(inputId, outputId) {\n",
              "  const inputElement = document.getElementById(inputId);\n",
              "  inputElement.disabled = false;\n",
              "\n",
              "  const outputElement = document.getElementById(outputId);\n",
              "  outputElement.innerHTML = '';\n",
              "\n",
              "  const pickedPromise = new Promise((resolve) => {\n",
              "    inputElement.addEventListener('change', (e) => {\n",
              "      resolve(e.target.files);\n",
              "    });\n",
              "  });\n",
              "\n",
              "  const cancel = document.createElement('button');\n",
              "  inputElement.parentElement.appendChild(cancel);\n",
              "  cancel.textContent = 'Cancel upload';\n",
              "  const cancelPromise = new Promise((resolve) => {\n",
              "    cancel.onclick = () => {\n",
              "      resolve(null);\n",
              "    };\n",
              "  });\n",
              "\n",
              "  // Wait for the user to pick the files.\n",
              "  const files = yield {\n",
              "    promise: Promise.race([pickedPromise, cancelPromise]),\n",
              "    response: {\n",
              "      action: 'starting',\n",
              "    }\n",
              "  };\n",
              "\n",
              "  cancel.remove();\n",
              "\n",
              "  // Disable the input element since further picks are not allowed.\n",
              "  inputElement.disabled = true;\n",
              "\n",
              "  if (!files) {\n",
              "    return {\n",
              "      response: {\n",
              "        action: 'complete',\n",
              "      }\n",
              "    };\n",
              "  }\n",
              "\n",
              "  for (const file of files) {\n",
              "    const li = document.createElement('li');\n",
              "    li.append(span(file.name, {fontWeight: 'bold'}));\n",
              "    li.append(span(\n",
              "        `(${file.type || 'n/a'}) - ${file.size} bytes, ` +\n",
              "        `last modified: ${\n",
              "            file.lastModifiedDate ? file.lastModifiedDate.toLocaleDateString() :\n",
              "                                    'n/a'} - `));\n",
              "    const percent = span('0% done');\n",
              "    li.appendChild(percent);\n",
              "\n",
              "    outputElement.appendChild(li);\n",
              "\n",
              "    const fileDataPromise = new Promise((resolve) => {\n",
              "      const reader = new FileReader();\n",
              "      reader.onload = (e) => {\n",
              "        resolve(e.target.result);\n",
              "      };\n",
              "      reader.readAsArrayBuffer(file);\n",
              "    });\n",
              "    // Wait for the data to be ready.\n",
              "    let fileData = yield {\n",
              "      promise: fileDataPromise,\n",
              "      response: {\n",
              "        action: 'continue',\n",
              "      }\n",
              "    };\n",
              "\n",
              "    // Use a chunked sending to avoid message size limits. See b/62115660.\n",
              "    let position = 0;\n",
              "    do {\n",
              "      const length = Math.min(fileData.byteLength - position, MAX_PAYLOAD_SIZE);\n",
              "      const chunk = new Uint8Array(fileData, position, length);\n",
              "      position += length;\n",
              "\n",
              "      const base64 = btoa(String.fromCharCode.apply(null, chunk));\n",
              "      yield {\n",
              "        response: {\n",
              "          action: 'append',\n",
              "          file: file.name,\n",
              "          data: base64,\n",
              "        },\n",
              "      };\n",
              "\n",
              "      let percentDone = fileData.byteLength === 0 ?\n",
              "          100 :\n",
              "          Math.round((position / fileData.byteLength) * 100);\n",
              "      percent.textContent = `${percentDone}% done`;\n",
              "\n",
              "    } while (position < fileData.byteLength);\n",
              "  }\n",
              "\n",
              "  // All done.\n",
              "  yield {\n",
              "    response: {\n",
              "      action: 'complete',\n",
              "    }\n",
              "  };\n",
              "}\n",
              "\n",
              "scope.google = scope.google || {};\n",
              "scope.google.colab = scope.google.colab || {};\n",
              "scope.google.colab._files = {\n",
              "  _uploadFiles,\n",
              "  _uploadFilesContinue,\n",
              "};\n",
              "})(self);\n",
              "</script> "
            ],
            "text/plain": [
              "<IPython.core.display.HTML object>"
            ]
          },
          "metadata": {},
          "output_type": "display_data"
        },
        {
          "name": "stdout",
          "output_type": "stream",
          "text": [
            "Saving TheAppropriationBill_2023.pdf to TheAppropriationBill_2023 (1).pdf\n",
            "User uploaded file \"TheAppropriationBill_2023 (1).pdf\" with length 915647 bytes\n"
          ]
        }
      ],
      "source": [
        "from google.colab import files\n",
        "\n",
        "# Upload the file\n",
        "uploaded = files.upload()\n",
        "\n",
        "# List the uploaded files\n",
        "for filename in uploaded.keys():\n",
        "    print(f'User uploaded file \"{filename}\" with length {len(uploaded[filename])} bytes')\n"
      ]
    },
    {
      "cell_type": "code",
      "execution_count": null,
      "id": "7dce9e16-8fb0-4502-b99e-1e160068c746",
      "metadata": {
        "id": "7dce9e16-8fb0-4502-b99e-1e160068c746"
      },
      "outputs": [],
      "source": [
        "# laoding the document\n",
        "loader = UnstructuredFileLoader(\"/content/TheAppropriationBill_2023.pdf\")\n",
        "documents = loader.load()"
      ]
    },
    {
      "cell_type": "code",
      "execution_count": null,
      "id": "33865f05-7f3e-465a-9702-e0da708a7ecf",
      "metadata": {
        "id": "33865f05-7f3e-465a-9702-e0da708a7ecf"
      },
      "outputs": [],
      "source": [
        "# splitting into text chunks\n",
        "text_splitter = CharacterTextSplitter(\n",
        "    chunk_size=2000,\n",
        "    chunk_overlap=400\n",
        ")"
      ]
    },
    {
      "cell_type": "code",
      "execution_count": null,
      "id": "65e4b898-dbcb-4ad2-8e9f-df82d778b79f",
      "metadata": {
        "id": "65e4b898-dbcb-4ad2-8e9f-df82d778b79f"
      },
      "outputs": [],
      "source": [
        "texts = text_splitter.split_documents(documents)"
      ]
    },
    {
      "cell_type": "code",
      "execution_count": null,
      "id": "3c6f7053-7fab-49ec-a2c2-ea650cb2ec81",
      "metadata": {
        "colab": {
          "base_uri": "https://localhost:8080/"
        },
        "id": "3c6f7053-7fab-49ec-a2c2-ea650cb2ec81",
        "outputId": "db976ff0-ea98-432c-d632-7e15839df957"
      },
      "outputs": [
        {
          "data": {
            "text/plain": [
              "list"
            ]
          },
          "execution_count": 33,
          "metadata": {},
          "output_type": "execute_result"
        }
      ],
      "source": [
        "type(texts)"
      ]
    },
    {
      "cell_type": "code",
      "execution_count": null,
      "id": "2db76b22-5387-4d8a-b9f0-28a83c7b83d2",
      "metadata": {
        "colab": {
          "base_uri": "https://localhost:8080/"
        },
        "id": "2db76b22-5387-4d8a-b9f0-28a83c7b83d2",
        "outputId": "53645ec3-563b-4c77-df21-fc1695632aee"
      },
      "outputs": [
        {
          "data": {
            "text/plain": [
              "34"
            ]
          },
          "execution_count": 34,
          "metadata": {},
          "output_type": "execute_result"
        }
      ],
      "source": [
        "len(texts)"
      ]
    },
    {
      "cell_type": "code",
      "execution_count": null,
      "id": "829f1e6f-fa20-4ee2-9a92-3ed9ca360678",
      "metadata": {
        "id": "829f1e6f-fa20-4ee2-9a92-3ed9ca360678"
      },
      "outputs": [],
      "source": [
        "#texts[:3]"
      ]
    },
    {
      "cell_type": "code",
      "execution_count": null,
      "id": "15cdf33e-db7a-4127-ab3c-ceaf08368d91",
      "metadata": {
        "id": "15cdf33e-db7a-4127-ab3c-ceaf08368d91"
      },
      "outputs": [],
      "source": [
        "embeddings = HuggingFaceEmbeddings()"
      ]
    },
    {
      "cell_type": "code",
      "execution_count": null,
      "id": "777412da-11eb-4283-ac81-5f048f6b3897",
      "metadata": {
        "id": "777412da-11eb-4283-ac81-5f048f6b3897"
      },
      "outputs": [],
      "source": [
        "persist_directory = \"doc_db2\""
      ]
    },
    {
      "cell_type": "code",
      "execution_count": null,
      "id": "1cd58bc0-630d-4bb9-80a8-ba2ff1238739",
      "metadata": {
        "id": "1cd58bc0-630d-4bb9-80a8-ba2ff1238739"
      },
      "outputs": [],
      "source": [
        "vectordb = Chroma.from_documents(\n",
        "    documents=texts,\n",
        "    embedding=embeddings,\n",
        "    persist_directory=persist_directory\n",
        ")"
      ]
    },
    {
      "cell_type": "code",
      "execution_count": null,
      "id": "80bcc19b-b67c-459c-b21c-eb21e842387e",
      "metadata": {
        "id": "80bcc19b-b67c-459c-b21c-eb21e842387e"
      },
      "outputs": [],
      "source": [
        "# retriever\n",
        "retriever = vectordb.as_retriever()"
      ]
    },
    {
      "cell_type": "code",
      "execution_count": null,
      "id": "4307b78e-1031-46af-9f2a-725931c2f294",
      "metadata": {
        "id": "4307b78e-1031-46af-9f2a-725931c2f294"
      },
      "outputs": [],
      "source": [
        "# llm from groq\n",
        "llm = ChatGroq(\n",
        "    model=\"llama-3.1-70b-versatile\",\n",
        "    temperature=0\n",
        ")"
      ]
    },
    {
      "cell_type": "code",
      "execution_count": null,
      "id": "d28d355b-2b39-46b9-90ad-d9bb4e39a076",
      "metadata": {
        "id": "d28d355b-2b39-46b9-90ad-d9bb4e39a076"
      },
      "outputs": [],
      "source": [
        "# create a qa chain\n",
        "qa_chain = RetrievalQA.from_chain_type(\n",
        "    llm=llm,\n",
        "    chain_type=\"stuff\",\n",
        "    retriever=retriever,\n",
        "    return_source_documents=True\n",
        ")"
      ]
    },
    {
      "cell_type": "code",
      "execution_count": null,
      "id": "zmC8cNTXO4t8",
      "metadata": {
        "colab": {
          "base_uri": "https://localhost:8080/",
          "height": 35
        },
        "id": "zmC8cNTXO4t8",
        "outputId": "501dab19-c02d-4b69-906d-ff184f8dffc3"
      },
      "outputs": [
        {
          "data": {
            "application/vnd.google.colaboratory.intrinsic+json": {
              "type": "string"
            },
            "text/plain": [
              "'/content/doc_db2.zip'"
            ]
          },
          "execution_count": 51,
          "metadata": {},
          "output_type": "execute_result"
        }
      ],
      "source": [
        "import shutil\n",
        "\n",
        "folder_name = \"doc_db2\"  # Replace with your folder name\n",
        "zip_file_name = \"approprationbill.zip\"  # Name of the zip file to create\n",
        "\n",
        "shutil.make_archive(folder_name, 'zip', folder_name)\n"
      ]
    },
    {
      "cell_type": "code",
      "execution_count": null,
      "id": "jASgznmkPRGi",
      "metadata": {
        "colab": {
          "base_uri": "https://localhost:8080/",
          "height": 17
        },
        "id": "jASgznmkPRGi",
        "outputId": "2a99b53a-57b6-438e-801e-c0bb653f289e"
      },
      "outputs": [
        {
          "data": {
            "application/javascript": "\n    async function download(id, filename, size) {\n      if (!google.colab.kernel.accessAllowed) {\n        return;\n      }\n      const div = document.createElement('div');\n      const label = document.createElement('label');\n      label.textContent = `Downloading \"${filename}\": `;\n      div.appendChild(label);\n      const progress = document.createElement('progress');\n      progress.max = size;\n      div.appendChild(progress);\n      document.body.appendChild(div);\n\n      const buffers = [];\n      let downloaded = 0;\n\n      const channel = await google.colab.kernel.comms.open(id);\n      // Send a message to notify the kernel that we're ready.\n      channel.send({})\n\n      for await (const message of channel.messages) {\n        // Send a message to notify the kernel that we're ready.\n        channel.send({})\n        if (message.buffers) {\n          for (const buffer of message.buffers) {\n            buffers.push(buffer);\n            downloaded += buffer.byteLength;\n            progress.value = downloaded;\n          }\n        }\n      }\n      const blob = new Blob(buffers, {type: 'application/binary'});\n      const a = document.createElement('a');\n      a.href = window.URL.createObjectURL(blob);\n      a.download = filename;\n      div.appendChild(a);\n      a.click();\n      div.remove();\n    }\n  ",
            "text/plain": [
              "<IPython.core.display.Javascript object>"
            ]
          },
          "metadata": {},
          "output_type": "display_data"
        },
        {
          "data": {
            "application/javascript": "download(\"download_3e8f4b80-9cf7-4853-94f1-6dcd984fd381\", \"doc_db2.zip\", 286008)",
            "text/plain": [
              "<IPython.core.display.Javascript object>"
            ]
          },
          "metadata": {},
          "output_type": "display_data"
        }
      ],
      "source": [
        "from google.colab import files\n",
        "\n",
        "files.download('/content/doc_db2.zip')\n"
      ]
    },
    {
      "cell_type": "code",
      "execution_count": null,
      "id": "2ffdd6b0-24b5-4411-8340-e20aefd6cc8d",
      "metadata": {
        "id": "2ffdd6b0-24b5-4411-8340-e20aefd6cc8d"
      },
      "outputs": [],
      "source": [
        "# invoke the qa chain and get a response for user query\n",
        "query = \"What is the purpose of this paper?\"\n",
        "response = qa_chain.invoke({\"query\": query})"
      ]
    },
    {
      "cell_type": "code",
      "execution_count": null,
      "id": "31ffcd25-3c42-40b2-a08f-db9a94814cce",
      "metadata": {
        "colab": {
          "base_uri": "https://localhost:8080/"
        },
        "id": "31ffcd25-3c42-40b2-a08f-db9a94814cce",
        "outputId": "415fd856-f2e3-4bdc-8fd8-c90f46e91ce9"
      },
      "outputs": [
        {
          "name": "stdout",
          "output_type": "stream",
          "text": [
            "{'query': 'What is the purpose of this paper?', 'result': 'The purpose of this paper is to provide for the appropriation of monies for the 2023/2024 financial year in Kenya. Specifically, it is the Appropriation Bill, 2023, which aims to authorize the issuance of a sum of money out of the Consolidated Fund and its application towards the service of the year ending on the 30th June, 2024, and to appropriate that sum and a sum voted on account by the National Assembly for certain public services and purposes.', 'source_documents': [Document(metadata={'source': '/content/TheAppropriationBill_2023.pdf'}, page_content='3. In addition to the sum granted by section 2, there may be applied, for the several services and purposes specified in the Schedule, the sums specified out of any money directed to be applied as appropriations in aid under Article 206(1)(b) of the Constitution.\\n\\n4. The disbursement of the monies appropriated to the State Department for Higher Education and Research under Vote R1065, and meant for university education under sub-vote 0504000, for purposes of programme 1065004000 (GoK Sponsorship to Students in Private Universities), shall be limited to the amount appropriated under this Act for that programme, and the provisions of Article 223 of the Constitution shall not be invoked to appropriate additional monies for such disbursement.\\n\\nShort title and commencement.\\n\\nIssue of KSh. 1,782,719,351,772 out of the Consolidated Fund for service of the year ending 30th June, 2024 and appropriation of the money granted.\\n\\nAppropriations in aid.\\n\\nLimitation under Vote R1065.\\n\\n778 \\t The Appropriation Bill, 2023\\n\\nSCHEDULE\\n\\n(1)\\n\\n(2)\\n\\nVote No.\\n\\nService or Purpose\\n\\nCentral Government\\n\\nRecurrent Expenditure\\n\\nR1011 The amount required in the year ending 30th June, 2024 for current expenses of the Executive Office of the President in the following programmes\\n\\n0603000 Government Printing Services\\n\\n0701000 General Administration Planning and Support Services\\n\\n0703000 Government Advisory Services\\n\\nR1012 The amount required in the year ending 30th June, 2024 for current expenses of the Office of the Deputy President in the following programmes\\n\\n0734000 Deputy President Services\\n\\nR1013 The amount required in the year ending 30th June, 2024 for current expenses of the Office of the Prime Cabinet Secretary in the following programmes\\n\\n0755000 Government Coordination and Supervision\\n\\nR1014 The amount required in the year ending 30th June, 2024 for current expenses of the State Department for Parliamentary Affairs in the following programmes'), Document(metadata={'source': '/content/TheAppropriationBill_2023.pdf'}, page_content='45,300,000\\n\\n0725000 \\tGeneral \\tAdministration, Planning and Support Services\\n\\n45,300,000\\n\\n02091 The amount required in the year ending 30th June, 2024 for capital expenses of the Office of the Teachers Service Commission in the following programmes\\n\\n1,139,000,000 \\t43,000,000\\n\\n0509000 Teacher Resource Management\\n\\n1,095,000,000\\n\\n0511000 \\tGeneral \\tAdministration, Planning and Support Services\\n\\n44,000,000 \\t43,000,000\\n\\nD2111 The amount required in the year ending 30th June, 2024 for capital expenses of the Office of the Auditor General in the following programmes .\\n\\n310,000,000\\n\\n0729000 Audit Services\\n\\n310,000,000\\n\\nD2141 The amount required in the year ending 30th June, 2024 for capital expenses of the National Gender and Equality Commission in the following programmes\\n\\n4,044,800\\n\\n0621000 Promotion of Gender Equality arid Freedom from Discrimination \\t 4,044,800\\n\\nCLASS SUB TOTAL\\n\\n5,911,793,050 \\t43,000,000\\n\\nCLUSTER SUB-TOTAL \\t 471,476,674,283 1$69,242,000 GRAND TOTAL \\t 1,782,719,351,772 525,691,433,185\\n\\nThe Appropriation Bill, 2023 \\t 811\\n\\nMEMORANDUM OF OBJECTS AND REASONS\\n\\nThe objective of this Bill is to provide for appropriation of monies for\\n\\nthe 2023/2024 financial year.\\n\\nClause 2 of the Bill provides for issuance out of the Consolidated Fund of the sum of KSh. 1,782,719,351,772 required to meet public expenditure during the financial year ending on 30th June, 2024. The clause also appropriates the money granted for services and purposes specified in the Schedule, which is based on the approved estimates for the financial year 2023/2024.\\n\\nClause 3 makes provision for appropriations in aid of those services\\n\\nand purposes.\\n\\nThe Bill is not a Bill concerning county governments for the purposes\\n\\nof Article 110 of the Constitution.\\n\\nDated the 15th June, 2023.\\n\\nNDINDI NYORO,\\n\\nChairperson, Budget and Appropriations Committee.'), Document(metadata={'source': '/content/TheAppropriationBill_2023.pdf'}, page_content=\"SPECIAL ISSUE\\n\\nr'TIONAL C' \\tFOR LAW RI PORlING LIBRARY\\n\\nKenya Gazette Supplement No. 87 (National Assembly Bills No. 27)\\n\\nREPUBLIC OF KENYA\\n\\nKENYA GAZETTE SUPPLEMENT\\n\\nNATIONAL ASSEMBLY BILLS, 2023\\n\\nNAIROBI, 15th June, 2023\\n\\nCONTENT\\n\\nBill for Introduction into the National Assembly—\\n\\nThe Appropriation Bill, 2023\\n\\nPRINTED AND PUBLISHED BY THE GOVERNMENT PRINTER, NAIROBI\\n\\nPAGE\\n\\n777\\n\\n777\\n\\nTHE APPROPRIATION BILL, 2023\\n\\nA Bill for\\n\\nAN ACT of Parliament to authorize the issuance of a sum of money out of the Consolidated Fund and its application towards the service of the year ending on the 30th June, 2024 and to appropriate that sum and a sum voted on account by the National Assembly for certain public services and purposes ENACTED by the Parliament of Kenya, as follows- 1. This Act may be cited as the Appropriation Act,\\n\\n2023 and shall come into force on 1st July, 2023.\\n\\n2. The National Treasury may issue out of the Consolidated Fund and apply towards the supply granted for the service of the year ending on the 30th June, 2024, the sum of Kenya Shillings one trillion, seven hundred and eighty-two billion, seven hundred and nineteen million, three hundred and fifty-one thousand, seven hundred and seventy-two and that sum shall be deemed to have been appropriated as from 1st July, 2023, for the services and purposes specified in the Schedule.\\n\\n3. In addition to the sum granted by section 2, there may be applied, for the several services and purposes specified in the Schedule, the sums specified out of any money directed to be applied as appropriations in aid under Article 206(1)(b) of the Constitution.\"), Document(metadata={'source': '/content/TheAppropriationBill_2023.pdf'}, page_content='0208000 Information and Communication Services\\n\\n0209000 Mass Media Skills Development\\n\\nD1132 The amount required in the year ending 30th June, 2024 for capital expenses of the State Department for Sports in the following programmes\\n\\n0901000 Sports\\n\\nD1134 The amount required in the year ending 30th June, 2024 for capital expenses of the State Department for Culture and Heritage in the following programmes\\n\\n0902000 Culture/ Heritage\\n\\n0916000 Public Records Mangement\\n\\nD1135 The amount required in the year ending 30th June, 2024 for capital expenses of the State Department for Youth Affairs and \\tthe \\tArts \\tin \\tthe \\tfollowing programmes\\n\\n0711000 Youth Empowerment Services\\n\\n0748000 Youth Development Services\\n\\n0903000 The Arts\\n\\n0904000 Library Services\\n\\n(ss. 2 and 3)\\n\\n(3) Supply KSh.\\n\\n(4)\\n\\nAppropriations in Aid KSh.\\n\\n3,479,000,000 12,769,000,000\\n\\n2,379,000,000 12,769,000,000\\n\\n1,100,000,000\\n\\n626,000,000\\n\\n445,500,000\\n\\n180,500,000\\n\\n129,200,000 16,000,000,000\\n\\n129200,000 16,000,000,000\\n\\n92,850,000\\n\\n79,700,000\\n\\n13,150,000\\n\\n831,750,000\\n\\n133,000,000\\n\\n96,700,510\\n\\n133,000,000\\n\\n457,149,490\\n\\n249,000,000\\n\\n28,900,000\\n\\nThe Appropriation Bill, 2023 \\t 799\\n\\nSCHEDULE\\n\\n(ss. 2 and 3)\\n\\n(1) Vote No.\\n\\n(2)\\n\\nService or Purpose\\n\\n(4)\\n\\n(3) Supply Appropriations KSh. \\tin Aid KSh.\\n\\nDevelopment Expenditure\\n\\nD1152 The amount required in the year ending 30th June, 2024 for capital expenses of the State Department for Energy in the following programmes .............—..........-\\n\\n25,513,000A00 29,559,000,000\\n\\n0211000 General Administration Planning and Support Services 0212000 Power Generation\\n\\n5,729,000,000\\n\\n315A00,000 4,690,000,000\\n\\n0213000 Power Transmission and Distribution\\n\\n0214000 Alternative Energy Technologies\\n\\n17,519,000,000 23,671,000,000 883,000,000 2,265,000,000\\n\\nD1162 The amount required in the year ending 30th June, 2024 for capital expenses of the State Department for Livestock Development \\tin \\tthe \\tfollowing programmes\\n\\n5,261,000,000\\n\\n4,300,000,000')]}\n"
          ]
        }
      ],
      "source": [
        "print(response)"
      ]
    },
    {
      "cell_type": "code",
      "execution_count": null,
      "id": "c1f38d11-e120-4046-a51f-ad626b45de3a",
      "metadata": {
        "colab": {
          "base_uri": "https://localhost:8080/"
        },
        "id": "c1f38d11-e120-4046-a51f-ad626b45de3a",
        "outputId": "ebba0d66-3eb7-4ca7-f069-41c36c486e63"
      },
      "outputs": [
        {
          "name": "stdout",
          "output_type": "stream",
          "text": [
            "The purpose of this paper is to provide for the appropriation of monies for the 2023/2024 financial year in Kenya. Specifically, it is the Appropriation Bill, 2023, which aims to authorize the issuance of a sum of money out of the Consolidated Fund and its application towards the service of the year ending on the 30th June, 2024, and to appropriate that sum and a sum voted on account by the National Assembly for certain public services and purposes.\n"
          ]
        }
      ],
      "source": [
        "print(response[\"result\"])"
      ]
    },
    {
      "cell_type": "code",
      "execution_count": null,
      "id": "3eec3d40-6922-4e8c-b177-41b588e23d91",
      "metadata": {
        "colab": {
          "base_uri": "https://localhost:8080/"
        },
        "id": "3eec3d40-6922-4e8c-b177-41b588e23d91",
        "outputId": "0291d9d9-3c7e-4fc8-e46f-c55fafb8227b"
      },
      "outputs": [
        {
          "name": "stdout",
          "output_type": "stream",
          "text": [
            "/content/TheAppropriationBill_2023.pdf\n"
          ]
        }
      ],
      "source": [
        "print(response[\"source_documents\"][0].metadata[\"source\"])"
      ]
    },
    {
      "cell_type": "code",
      "execution_count": null,
      "id": "9396808b-3e4c-4891-becd-9a35340b342b",
      "metadata": {
        "id": "9396808b-3e4c-4891-becd-9a35340b342b"
      },
      "outputs": [],
      "source": []
    },
    {
      "cell_type": "code",
      "execution_count": null,
      "id": "982fac56-97a5-409a-a8f7-d20ddf004731",
      "metadata": {
        "colab": {
          "base_uri": "https://localhost:8080/"
        },
        "id": "982fac56-97a5-409a-a8f7-d20ddf004731",
        "outputId": "9ba28ae5-8a7b-4037-9cd8-14bc0a3c7e2e"
      },
      "outputs": [
        {
          "name": "stdout",
          "output_type": "stream",
          "text": [
            "According to the document, money has been allocated to various government departments and programs for the financial year ending June 30, 2024. The allocations are categorized into recurrent expenditure (current expenses) and development expenditure (capital expenses).\n",
            "\n",
            "Here are some examples of allocations:\n",
            "\n",
            "**Recurrent Expenditure:**\n",
            "\n",
            "* Executive Office of the President: KSh 2,466,400,000\n",
            "* Office of the Deputy President: KSh 569,649,224\n",
            "* State Department for Social Protection and Senior Citizens Affairs: KSh 32,442,180,000\n",
            "* State Department for Mining: KSh 1,365,200,000\n",
            "* State Department for Petroleum: KSh 342,960,000\n",
            "* State Department for Tourism: KSh 1,087,900,000\n",
            "\n",
            "**Development Expenditure:**\n",
            "\n",
            "* Office of the Teachers Service Commission: KSh 1,139,000,000\n",
            "* Office of the Auditor General: KSh 310,000,000\n",
            "* National Gender and Equality Commission: KSh 4,044,800\n",
            "* State Department for Industry: KSh 340,000,000\n",
            "* State Department for Micro, Small and Medium Enterprises Development: KSh 259,000,000\n",
            "* State Department for Investment Promotion: KSh 6,552,000,000\n",
            "* State Department for Labour and Skills Development: KSh 688,950,000\n",
            "* State Department for Social Protection, Pensions and Senior Citizens Affairs: KSh 3,617,470,000\n",
            "\n",
            "The document also mentions a grand total allocation of KSh 1,782,719,351,772 for the financial year ending June 30, 2024.\n",
            "******************************\n",
            "Source Document: /content/TheAppropriationBill_2023.pdf\n"
          ]
        }
      ],
      "source": [
        "# invoke the qa chain and get a response for user query\n",
        "query = \"how has money been allocated according to this document?\"\n",
        "response = qa_chain.invoke({\"query\": query})\n",
        "print(response[\"result\"])\n",
        "print(\"*\"*30)\n",
        "print(\"Source Document:\", response[\"source_documents\"][0].metadata[\"source\"])"
      ]
    },
    {
      "cell_type": "code",
      "execution_count": null,
      "id": "76206506-1e15-45c2-92f3-891da7ba091d",
      "metadata": {
        "colab": {
          "base_uri": "https://localhost:8080/"
        },
        "id": "76206506-1e15-45c2-92f3-891da7ba091d",
        "outputId": "52b95c00-7364-44eb-f8af-eb96a5c6243b"
      },
      "outputs": [
        {
          "name": "stdout",
          "output_type": "stream",
          "text": [
            "Based on the provided context, I can see several allocations for health-related programs. Here are a few:\n",
            "\n",
            "* For the State Department for Medical Services:\n",
            "\t+ Capital expenses: 12,704,000,000 (D1082)\n",
            "\t+ Current expenses: 43,517,520,000 (R1082)\n",
            "* For the State Department for Public Health and Professional Standards:\n",
            "\t+ Capital expenses: 1,200,000,000 (D1083)\n",
            "\t+ Current expenses: 11,924,600,000 (R1083)\n",
            "\n",
            "To give you a total, I'll add up these allocations:\n",
            "\n",
            "* Capital expenses: 12,704,000,000 + 1,200,000,000 = 13,904,000,000\n",
            "* Current expenses: 43,517,520,000 + 11,924,600,000 = 55,442,120,000\n",
            "\n",
            "So, the total allocation for health is approximately 69,346,120,000.\n",
            "******************************\n",
            "Source Document: /content/TheAppropriationBill_2023.pdf\n"
          ]
        }
      ],
      "source": [
        "# invoke the qa chain and get a response for user query\n",
        "query = \"how many much money has been allocated to health?\"\n",
        "response = qa_chain.invoke({\"query\": query})\n",
        "print(response[\"result\"])\n",
        "print(\"*\"*30)\n",
        "print(\"Source Document:\", response[\"source_documents\"][0].metadata[\"source\"])"
      ]
    }
  ],
  "metadata": {
    "colab": {
      "provenance": []
    },
    "kernelspec": {
      "display_name": "Python 3 (ipykernel)",
      "language": "python",
      "name": "python3"
    },
    "language_info": {
      "codemirror_mode": {
        "name": "ipython",
        "version": 3
      },
      "file_extension": ".py",
      "mimetype": "text/x-python",
      "name": "python",
      "nbconvert_exporter": "python",
      "pygments_lexer": "ipython3",
      "version": "3.10.12"
    }
  },
  "nbformat": 4,
  "nbformat_minor": 5
}
